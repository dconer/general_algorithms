{
 "cells": [
  {
   "cell_type": "code",
   "execution_count": null,
   "id": "9d69bcb3",
   "metadata": {},
   "outputs": [],
   "source": [
    "class Array:\n",
    "  def __init__(self):\n",
    "    self.length=0\n",
    "    self.data={}\n",
    "\n",
    "  def __str__(self):\n",
    "    return str(self.__dict__)\n",
    "\n",
    "  def get(self,index):\n",
    "    return self.data[index]\n",
    "  \n",
    "  def push(self,item):\n",
    "    self.data[self.length]=item\n",
    "    self.length+=1\n",
    "\n",
    "  def pop(self):\n",
    "    lastitem = self.data[self.length-1]\n",
    "    del self.data[self.length-1]\n",
    "    self.length-=1\n",
    "    return lastitem\n",
    "\n",
    "  def delete(self,index):\n",
    "    deleteditem = self.data[index]\n",
    "    for i in range(index,self.length-1):\n",
    "      self.data[i] = self.data[i+1]\n",
    "\n",
    "    del self.data[self.length-1]\n",
    "    self.length-=1\n",
    "    return deleteditem\n",
    "\n"
   ]
  },
  {
   "cell_type": "markdown",
   "id": "7af21b42",
   "metadata": {},
   "source": [
    "#### Merge and sort array"
   ]
  },
  {
   "cell_type": "code",
   "execution_count": null,
   "id": "d114945d",
   "metadata": {},
   "outputs": [
    {
     "data": {
      "text/plain": [
       "[1, 10, 71, 121, 192]"
      ]
     },
     "execution_count": 40,
     "metadata": {},
     "output_type": "execute_result"
    }
   ],
   "source": [
    "\n",
    "from random import randint\n",
    "\n",
    "def merge_sorted_arr(arr1,arr2):\n",
    "    arr = [*arr1, *arr2]\n",
    "    for i in range(0, len(arr)-1):\n",
    "        for j in range(i, len(arr)):\n",
    "            if arr[i] > arr[j]:\n",
    "                cache = arr[i]\n",
    "                arr[i] = arr[j]\n",
    "                arr[j] = cache\n",
    "    return arr\n",
    "\n",
    "merge_sorted_arr([121,71,192,1,10],[3,7,1,4])"
   ]
  },
  {
   "cell_type": "markdown",
   "id": "bafa477b",
   "metadata": {},
   "source": [
    "#### Merge sorted arrays"
   ]
  },
  {
   "cell_type": "code",
   "execution_count": null,
   "id": "c4c80c19",
   "metadata": {},
   "outputs": [
    {
     "data": {
      "text/plain": [
       "[1, 1, 3, 10, 71, 121, 192]"
      ]
     },
     "execution_count": 42,
     "metadata": {},
     "output_type": "execute_result"
    }
   ],
   "source": [
    "def mergesortedarr(a,b):\n",
    "  if len(a)==0 or len(b)==0:\n",
    "    return a+b\n",
    "  mylist=[]\n",
    "  i=0\n",
    "  j=0\n",
    "  \n",
    "  while i<len(a) and j<len(b):\n",
    "\n",
    "    if a[i]<=b[j]:\n",
    "      mylist.append(a[i])\n",
    "      i+=1\n",
    "\n",
    "    elif b[j]<a[i]:\n",
    "      mylist.append(b[j])\n",
    "      j+=1\n",
    "\n",
    "  return mylist+a[i:]+b[j:]\n",
    "\n",
    "mergesortedarr([1, 10, 71, 121, 192],[1,3])"
   ]
  }
 ],
 "metadata": {
  "kernelspec": {
   "display_name": ".venv",
   "language": "python",
   "name": "python3"
  },
  "language_info": {
   "codemirror_mode": {
    "name": "ipython",
    "version": 3
   },
   "file_extension": ".py",
   "mimetype": "text/x-python",
   "name": "python",
   "nbconvert_exporter": "python",
   "pygments_lexer": "ipython3",
   "version": "3.12.3"
  }
 },
 "nbformat": 4,
 "nbformat_minor": 5
}
